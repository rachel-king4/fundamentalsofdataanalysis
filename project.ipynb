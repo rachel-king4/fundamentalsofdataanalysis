{
 "cells": [
  {
   "attachments": {},
   "cell_type": "markdown",
   "metadata": {},
   "source": [
    "# My Project Notebook\n",
    "\n",
    "**Rachel King**\n",
    "\n",
    "***"
   ]
  },
  {
   "attachments": {},
   "cell_type": "markdown",
   "metadata": {},
   "source": [
    "## **Introduction** ##\n",
    "\n",
    "The Iris dataset is one of the most well-known data sets in relation to pattern recognition.\n",
    "\n",
    "The dataset was created in 1936 by R.A Fisher. It contains 3 classes, with each class referencing a type of iris plant. There are 50 instances of each class, with 150 instances in total.\n",
    "\n",
    "Each class has 4 attributes, or variables, which are:\n",
    "\n",
    "- Sepal length in centimetres\n",
    "- Sepal width in centimetres\n",
    "- Petal length in centimetres\n",
    "- Petal width in centimetres\n",
    "\n",
    "One class (Iris-setosa) is linearly separable from the other two, while the latter (Iris-versicolor and Iris-virginica) are not linearly separable from each other.\n",
    "\n",
    "An image of the three Iris plant species referred to in the dataset can be seen below:\n",
    "\n",
    "![Iris Plants]()"
   ]
  },
  {
   "attachments": {},
   "cell_type": "markdown",
   "metadata": {},
   "source": [
    "## Importing of Modules ##\n",
    "\n",
    "Here we import packages we rely on to aid anlaysis and visualisation of the data:\n",
    "\n",
    "- Pandas (a Python library used for working with datasets and is used to analyse, explore and manipulate data)\n",
    "- Numpy (a Python library used for working with arrays)\n",
    "- Matplotlib (a Python library used for plotting data and for visualisation)\n",
    "- Tabulate (a Python package used to print tabular data in nicely formatted tables)\n",
    "- Seaborn (a Python library used for data visualisation - provides informative statistical graphics)\n",
    "- Sys (a Python module that provides functions and variables that are used to manipulate parts of the Python runtime environment)\n",
    "\n",
    "These modules are very useful as they enable data to be analysed, structured into readable and well-formatted tables & graphs and provide control over the input and output of the program.\n",
    "This is very important when trying to create a clear picture of the story of the data and what it represents."
   ]
  },
  {
   "cell_type": "code",
   "execution_count": 1,
   "metadata": {},
   "outputs": [],
   "source": [
    "import pandas as pd\n",
    "import numpy as np\n",
    "import matplotlib.pyplot as plt\n",
    "import matplotlib as mpl\n",
    "from tabulate import tabulate\n",
    "import seaborn as sns\n",
    "import sys"
   ]
  },
  {
   "attachments": {},
   "cell_type": "markdown",
   "metadata": {},
   "source": [
    "The dataset is imported into the workspace directly from its URL.\n",
    "It is then stored as a variable iris so it can be called to analyse and visualise the data it contains."
   ]
  },
  {
   "cell_type": "code",
   "execution_count": 2,
   "metadata": {},
   "outputs": [],
   "source": [
    "csv_url = 'https://archive.ics.uci.edu/ml/machine-learning-databases/iris/iris.data'\n",
    "# using the attribute information as the column names\n",
    "col_names = ['Sepal_Length','Sepal_Width','Petal_Length','Petal_Width','Class']\n",
    "iris =  pd.read_csv(csv_url, names = col_names)"
   ]
  },
  {
   "attachments": {},
   "cell_type": "markdown",
   "metadata": {},
   "source": [
    "## Summary of Each Variable ##\n",
    "\n",
    "A number of tables were created which statistically summarise the dataset as a whole, as well as statistical summaries of each of the three classes of iris plant."
   ]
  },
  {
   "cell_type": "code",
   "execution_count": 3,
   "metadata": {},
   "outputs": [
    {
     "name": "stdout",
     "output_type": "stream",
     "text": [
      "A table of statistics for each variable can be seen below.\n",
      "The first table displays statistics of the data set as a whole, while Tables 2,3,4 and 5\n",
      "display statistics such as mean, min and max for each of the 4 variables when grouped together by class.\n",
      "\n",
      "Table 1 - Iris Dataset Statistics\n",
      "+--------+---------------------+--------------------+---------------------+--------------------+\n",
      "|  Stat  |   Sepal_Length (cm) |   Sepal_Width (cm) |   Petal_Length (cm) |   Petal_Width (cm) |\n",
      "+========+=====================+====================+=====================+====================+\n",
      "|  mean  |            5.84333  |           3.054    |             3.75867 |           1.19867  |\n",
      "+--------+---------------------+--------------------+---------------------+--------------------+\n",
      "|  min   |            4.3      |           2        |             1       |           0.1      |\n",
      "+--------+---------------------+--------------------+---------------------+--------------------+\n",
      "|  max   |            7.9      |           4.4      |             6.9     |           2.5      |\n",
      "+--------+---------------------+--------------------+---------------------+--------------------+\n",
      "|  std   |            0.828066 |           0.433594 |             1.76442 |           0.763161 |\n",
      "+--------+---------------------+--------------------+---------------------+--------------------+\n",
      "\n",
      "\n",
      "Table 2 - Iris Dataset Sepal Length Statistics\n",
      "+-----------------+-------------+------------+------------+\n",
      "|      Class      |   Mean (cm) |   Min (cm) |   Max (cm) |\n",
      "+=================+=============+============+============+\n",
      "|   Iris-setosa   |       5.006 |        4.3 |        5.8 |\n",
      "+-----------------+-------------+------------+------------+\n",
      "| Iris-versicolor |       5.936 |        4.9 |        7   |\n",
      "+-----------------+-------------+------------+------------+\n",
      "| Iris-virginica  |       6.588 |        4.9 |        7.9 |\n",
      "+-----------------+-------------+------------+------------+\n",
      "\n",
      "\n",
      "Table 3 - Iris Dataset Sepal Width Statistics\n",
      "+-----------------+-------------+------------+------------+\n",
      "|      Class      |   Mean (cm) |   Min (cm) |   Max (cm) |\n",
      "+=================+=============+============+============+\n",
      "|   Iris-setosa   |       3.418 |        2.3 |        4.4 |\n",
      "+-----------------+-------------+------------+------------+\n",
      "| Iris-versicolor |       2.77  |        2   |        3.4 |\n",
      "+-----------------+-------------+------------+------------+\n",
      "| Iris-virginica  |       2.974 |        2.2 |        3.8 |\n",
      "+-----------------+-------------+------------+------------+\n",
      "\n",
      "\n",
      "Table 4 - Iris Dataset Petal Length Statistics\n",
      "+-----------------+-------------+------------+------------+\n",
      "|      Class      |   Mean (cm) |   Min (cm) |   Max (cm) |\n",
      "+=================+=============+============+============+\n",
      "|   Iris-setosa   |       1.464 |        1   |        1.9 |\n",
      "+-----------------+-------------+------------+------------+\n",
      "| Iris-versicolor |       4.26  |        3   |        5.1 |\n",
      "+-----------------+-------------+------------+------------+\n",
      "| Iris-virginica  |       5.552 |        4.5 |        6.9 |\n",
      "+-----------------+-------------+------------+------------+\n",
      "\n",
      "\n",
      "Table 5 - Iris Dataset Petal Width Statistics\n",
      "+-----------------+-------------+------------+------------+\n",
      "|      Class      |   Mean (cm) |   Min (cm) |   Max (cm) |\n",
      "+=================+=============+============+============+\n",
      "|   Iris-setosa   |       0.244 |        0.1 |        0.6 |\n",
      "+-----------------+-------------+------------+------------+\n",
      "| Iris-versicolor |       1.326 |        1   |        1.8 |\n",
      "+-----------------+-------------+------------+------------+\n",
      "| Iris-virginica  |       2.026 |        1.4 |        2.5 |\n",
      "+-----------------+-------------+------------+------------+\n",
      "\n",
      "\n",
      "Sepal Length is the largest variable, with a mean of 5.8, while Petal Width is the smallest with a mean of 1.2.\n",
      "The largest Sepal Lengths occur in the Iris virginica species while the smallest occur in the Iris setosa.\n",
      "However, Iris setosa represents the largest Sepal Widths. \n",
      "\n",
      "\n",
      "For the petal characteristics then, Petal Length and Petal Width are both largest in the Iris virginica species, and smallest in the Iris setosa species.\n",
      "Petal Length is the variable with the widest spread of data, with a standard deviation of 1.7 and a range from a minimum of 1 to a maximum of 6.9.\n",
      "Sepal Width then is the variable with the smallest spread of data, as all three species of Iris plant have similar sepal widths.\n"
     ]
    }
   ],
   "source": [
    "# Summary of each Variable\n",
    "print(\"A table of statistics for each variable can be seen below.\")\n",
    "print(\"The first table displays statistics of the data set as a whole, while Tables 2,3,4 and 5\")\n",
    "print(\"display statistics such as mean, min and max for each of the 4 variables when grouped together by class.\\n\")\n",
    "\n",
    "print(\"Table 1 - Iris Dataset Statistics\")\n",
    "iris_stats = iris.agg({'Sepal_Length': ['mean', 'min', 'max', 'std'],\n",
    "                           'Sepal_Width': ['mean', 'min', 'max', 'std'],\n",
    "                           'Petal_Length': ['mean', 'min', 'max', 'std'],\n",
    "                           'Petal_Width': ['mean', 'min', 'max', 'std']})\n",
    "print(tabulate(iris_stats, headers = [\"Stat\", \"Sepal_Length (cm)\", \"Sepal_Width (cm)\", \"Petal_Length (cm)\", \"Petal_Width (cm)\"], tablefmt='grid', stralign='center'))\n",
    "print('\\n')\n",
    "\n",
    "# Sepal Length Statistics\n",
    "print(\"Table 2 - Iris Dataset Sepal Length Statistics\")\n",
    "table_of_data = iris.groupby('Class').agg({'Sepal_Length': ['mean', 'min', 'max']})\n",
    "table_of_data.reset_index(inplace=False)\n",
    "print(tabulate(table_of_data, headers = [\"Class\", \"Mean (cm)\", \"Min (cm)\", \"Max (cm)\"], tablefmt='grid', stralign='center'))\n",
    "print('\\n')\n",
    "\n",
    "# Sepal Width Statistics\n",
    "print(\"Table 3 - Iris Dataset Sepal Width Statistics\")\n",
    "table_of_data = iris.groupby('Class').agg({'Sepal_Width': ['mean', 'min', 'max']})\n",
    "table_of_data.reset_index(inplace=False)\n",
    "print(tabulate(table_of_data, headers = [\"Class\", \"Mean (cm)\", \"Min (cm)\", \"Max (cm)\"], tablefmt='grid', stralign='center'))\n",
    "print('\\n')\n",
    "\n",
    "# Petal Length Statistics\n",
    "print(\"Table 4 - Iris Dataset Petal Length Statistics\")\n",
    "table_of_data = iris.groupby('Class').agg({'Petal_Length': ['mean', 'min', 'max']})\n",
    "table_of_data.reset_index(inplace=False)\n",
    "print(tabulate(table_of_data, headers = [\"Class\", \"Mean (cm)\", \"Min (cm)\", \"Max (cm)\"], tablefmt='grid', stralign='center'))\n",
    "print('\\n')\n",
    "\n",
    "# Petal Width Statistics\n",
    "print(\"Table 5 - Iris Dataset Petal Width Statistics\")\n",
    "table_of_data = iris.groupby('Class').agg({'Petal_Width': ['mean', 'min', 'max']})\n",
    "table_of_data.reset_index(inplace=False)\n",
    "print(tabulate(table_of_data, headers = [\"Class\", \"Mean (cm)\", \"Min (cm)\", \"Max (cm)\"], tablefmt='grid', stralign='center'))\n",
    "print(\"\\n\")\n",
    "\n",
    "print(\"Sepal Length is the largest variable, with a mean of 5.8, while Petal Width is the smallest with a mean of 1.2.\")\n",
    "print(\"The largest Sepal Lengths occur in the Iris virginica species while the smallest occur in the Iris setosa.\")\n",
    "print(\"However, Iris setosa represents the largest Sepal Widths. \\n\\n\")\n",
    "print(\"For the petal characteristics then, Petal Length and Petal Width are both largest in the Iris virginica species, and smallest in the Iris setosa species.\")\n",
    "print(\"Petal Length is the variable with the widest spread of data, with a standard deviation of 1.7 and a range from a minimum of 1 to a maximum of 6.9.\")\n",
    "print(\"Sepal Width then is the variable with the smallest spread of data, as all three species of Iris plant have similar sepal widths.\")"
   ]
  },
  {
   "cell_type": "code",
   "execution_count": null,
   "metadata": {},
   "outputs": [],
   "source": []
  },
  {
   "cell_type": "code",
   "execution_count": null,
   "metadata": {},
   "outputs": [],
   "source": []
  },
  {
   "cell_type": "code",
   "execution_count": null,
   "metadata": {},
   "outputs": [],
   "source": []
  },
  {
   "cell_type": "code",
   "execution_count": null,
   "metadata": {},
   "outputs": [],
   "source": []
  },
  {
   "attachments": {},
   "cell_type": "markdown",
   "metadata": {},
   "source": [
    "***\n",
    "\n",
    "End"
   ]
  }
 ],
 "metadata": {
  "kernelspec": {
   "display_name": "base",
   "language": "python",
   "name": "python3"
  },
  "language_info": {
   "codemirror_mode": {
    "name": "ipython",
    "version": 3
   },
   "file_extension": ".py",
   "mimetype": "text/x-python",
   "name": "python",
   "nbconvert_exporter": "python",
   "pygments_lexer": "ipython3",
   "version": "3.11.4"
  },
  "orig_nbformat": 4
 },
 "nbformat": 4,
 "nbformat_minor": 2
}
