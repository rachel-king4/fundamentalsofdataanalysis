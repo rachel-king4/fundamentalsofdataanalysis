{
 "cells": [
  {
   "attachments": {},
   "cell_type": "markdown",
   "metadata": {},
   "source": [
    "# My Notebook\n",
    "\n",
    "***"
   ]
  },
  {
   "cell_type": "code",
   "execution_count": 1,
   "metadata": {},
   "outputs": [],
   "source": [
    "import numpy as np\n",
    "\n",
    "import matplotlib.pyplot as plt"
   ]
  },
  {
   "cell_type": "code",
   "execution_count": 2,
   "metadata": {},
   "outputs": [
    {
     "data": {
      "text/plain": [
       "array([1. , 1.1, 1.2, 1.3, 1.4, 1.5, 1.6, 1.7, 1.8, 1.9, 2. , 2.1, 2.2,\n",
       "       2.3, 2.4, 2.5, 2.6, 2.7, 2.8, 2.9, 3. , 3.1, 3.2, 3.3, 3.4, 3.5,\n",
       "       3.6, 3.7, 3.8, 3.9, 4. , 4.1, 4.2, 4.3, 4.4, 4.5, 4.6, 4.7, 4.8,\n",
       "       4.9, 5. , 5.1, 5.2, 5.3, 5.4, 5.5, 5.6, 5.7, 5.8, 5.9, 6. , 6.1,\n",
       "       6.2, 6.3, 6.4, 6.5, 6.6, 6.7, 6.8, 6.9, 7. , 7.1, 7.2, 7.3, 7.4,\n",
       "       7.5, 7.6, 7.7, 7.8, 7.9, 8. , 8.1, 8.2, 8.3, 8.4, 8.5, 8.6, 8.7,\n",
       "       8.8, 8.9, 9. , 9.1, 9.2, 9.3, 9.4, 9.5, 9.6, 9.7, 9.8, 9.9])"
      ]
     },
     "execution_count": 2,
     "metadata": {},
     "output_type": "execute_result"
    }
   ],
   "source": [
    "np.arange(1.0, 10.0, 0.1)"
   ]
  },
  {
   "attachments": {},
   "cell_type": "markdown",
   "metadata": {},
   "source": [
    "## List of y values\n",
    "\n",
    "In the next cell, we plot the function $ y = e^x $ wher $e$ is the number $\\sim 2.718 $\n",
    "\n",
    "$$ y = \\frac{x^2}{2x} $$"
   ]
  },
  {
   "cell_type": "code",
   "execution_count": null,
   "metadata": {},
   "outputs": [],
   "source": []
  },
  {
   "cell_type": "code",
   "execution_count": 3,
   "metadata": {},
   "outputs": [
    {
     "data": {
      "text/plain": [
       "[<matplotlib.lines.Line2D at 0x20a0020ba50>]"
      ]
     },
     "execution_count": 3,
     "metadata": {},
     "output_type": "execute_result"
    },
    {
     "data": {
      "image/png": "[encoded data removed]",
      "text/plain": [
       "<Figure size 1000x600 with 1 Axes>"
      ]
     },
     "metadata": {},
     "output_type": "display_data"
    }
   ],
   "source": [
    "x = np.linspace(0.0, 3.0, 1001)\n",
    "y = np.exp(x)\n",
    "\n",
    "fig, ax = plt.subplots(figsize=(10, 6))\n",
    "\n",
    "plt.plot(x, y)"
   ]
  },
  {
   "cell_type": "code",
   "execution_count": 4,
   "metadata": {},
   "outputs": [],
   "source": [
    "# import the random module from the standard library\n",
    "#numerical arrays, random numbers\n",
    "\n",
    "import random\n",
    "import numpy as np\n",
    "import matplotlib.pyplot as plt"
   ]
  },
  {
   "cell_type": "code",
   "execution_count": 5,
   "metadata": {},
   "outputs": [
    {
     "data": {
      "text/plain": [
       "[13, 16, 18, 13, 11, 10, 11, 19, 12, 20]"
      ]
     },
     "execution_count": 5,
     "metadata": {},
     "output_type": "execute_result"
    }
   ],
   "source": [
    "L = [random.randint(10, 20) for i in range(100)]\n",
    "\n",
    "L[:10]"
   ]
  },
  {
   "cell_type": "code",
   "execution_count": 6,
   "metadata": {},
   "outputs": [],
   "source": [
    "makes = ['Toyota', 'Skoda', 'Ford', 'Renault']"
   ]
  },
  {
   "cell_type": "code",
   "execution_count": 7,
   "metadata": {},
   "outputs": [
    {
     "data": {
      "text/plain": [
       "['Toyota',\n",
       " 'Skoda',\n",
       " 'Ford',\n",
       " 'Toyota',\n",
       " 'Toyota',\n",
       " 'Toyota',\n",
       " 'Skoda',\n",
       " 'Skoda',\n",
       " 'Renault',\n",
       " 'Renault']"
      ]
     },
     "execution_count": 7,
     "metadata": {},
     "output_type": "execute_result"
    }
   ],
   "source": [
    "random.choices(makes, k=10)"
   ]
  },
  {
   "cell_type": "code",
   "execution_count": 8,
   "metadata": {},
   "outputs": [
    {
     "data": {
      "text/plain": [
       "20.369279973297992"
      ]
     },
     "execution_count": 8,
     "metadata": {},
     "output_type": "execute_result"
    }
   ],
   "source": [
    "random.uniform(0.0, 100.0)"
   ]
  },
  {
   "cell_type": "code",
   "execution_count": 9,
   "metadata": {},
   "outputs": [
    {
     "data": {
      "text/plain": [
       "array([ 2,  1,  7,  9,  4,  8,  1, 10,  4,  5,  8,  5,  2,  2,  6],\n",
       "      dtype=int64)"
      ]
     },
     "execution_count": 9,
     "metadata": {},
     "output_type": "execute_result"
    }
   ],
   "source": [
    "rng = np.random.default_rng()\n",
    "\n",
    "rng.integers(low=1, high=11, size=15)"
   ]
  },
  {
   "attachments": {},
   "cell_type": "markdown",
   "metadata": {},
   "source": [
    "## Plotting Bar Charts\n",
    "\n",
    "***"
   ]
  },
  {
   "cell_type": "code",
   "execution_count": 10,
   "metadata": {},
   "outputs": [],
   "source": [
    "# The lowest integer allowed\n",
    "low = 1\n",
    "\n",
    "#The highest integer allowed\n",
    "high = 10\n",
    "\n",
    "# The number of integers to generate\n",
    "size = 1000"
   ]
  },
  {
   "cell_type": "code",
   "execution_count": 11,
   "metadata": {},
   "outputs": [
    {
     "data": {
      "text/plain": [
       "array([ 8,  7,  8, 10,  3,  6, 10,  9,  4,  6,  8,  9,  4,  7,  3,  7,  2,\n",
       "        1,  3,  9,  4,  2,  9,  7,  5,  2,  1,  2,  8,  3,  7,  1,  4,  9,\n",
       "        1,  8,  6,  6,  4,  1,  2,  2,  4,  3, 10,  7,  4, 10,  4,  3,  5,\n",
       "       10,  9,  8,  8,  9,  3,  9,  7,  4,  4,  4,  8,  3,  4,  8,  9,  5,\n",
       "        6,  1,  2,  2, 10, 10,  9, 10, 10,  4,  1,  4,  6,  2,  9,  8,  3,\n",
       "        2,  4,  4,  1,  7,  1,  1,  6,  1,  7,  6,  8,  3,  3,  6, 10,  9,\n",
       "        2,  1,  8,  1,  8,  5, 10,  1,  8,  4,  4,  1,  5,  4, 10,  6,  9,\n",
       "        5,  3,  5,  7, 10,  3,  7,  5, 10,  3,  5,  5, 10,  8,  8,  3,  5,\n",
       "        1,  7,  6,  6,  5,  4,  6,  9,  4,  1, 10,  3,  2,  4,  6,  3,  4,\n",
       "        7,  6,  9,  6,  4,  4, 10,  7,  3,  4,  3,  9,  3,  9,  6,  2,  2,\n",
       "        7,  9,  2,  6,  1,  8,  5, 10,  8,  3,  2,  6,  5,  2,  5,  8,  3,\n",
       "        2,  5,  6,  9,  6,  6,  3,  9, 10,  7,  1,  4,  5,  3,  5, 10,  2,\n",
       "        1,  3,  4,  6, 10, 10,  5,  3,  7,  9,  3,  5,  8,  8,  5,  8, 10,\n",
       "        3,  8,  2,  5,  5,  5,  2,  6,  8,  6,  4,  5,  8,  4, 10,  2,  1,\n",
       "        8,  8,  4,  5,  7,  2,  3,  3,  9,  1,  7,  3,  5,  2, 10,  1,  4,\n",
       "        5,  5, 10,  5,  4, 10,  4,  6,  2,  3,  9,  8, 10,  1,  9,  8,  9,\n",
       "        5,  2,  3,  1,  6,  4,  2,  6,  5,  2,  9,  1,  3,  4, 10,  7,  2,\n",
       "        4, 10,  3,  5,  8,  5,  2,  9,  3,  4,  8,  6,  4, 10, 10,  7,  3,\n",
       "        2,  5,  7,  8, 10,  8,  1,  9,  8,  2,  2,  8,  2,  9,  5,  5,  8,\n",
       "        3,  3,  6,  9,  9, 10,  2,  1,  2,  8,  2,  9, 10,  3,  5,  8,  8,\n",
       "        9,  1,  5, 10,  3,  2,  4,  3,  9,  1,  8,  7,  9,  2,  6,  6,  3,\n",
       "       10,  6,  5,  9,  2,  5,  8, 10,  8,  8, 10,  1,  9,  7,  2,  3,  8,\n",
       "        3,  1,  1,  8,  9,  1,  4,  7,  6,  3,  7,  8,  8,  8,  1,  8,  6,\n",
       "        7,  4,  2, 10,  2,  1,  6,  5,  1, 10,  9,  6,  5, 10,  6,  4,  7,\n",
       "       10,  9,  3,  4,  4,  5,  8,  2,  3,  2,  3, 10,  9,  8, 10,  2,  7,\n",
       "        3,  6,  1,  9, 10,  1,  5,  2,  6, 10,  3, 10,  8,  3,  8,  3,  8,\n",
       "        8,  8,  4,  2,  6,  6,  7,  5,  5,  5,  6,  4,  6,  3,  1,  6,  7,\n",
       "        2, 10,  2, 10,  2,  7,  1,  5, 10, 10,  4,  5,  4,  9,  3,  5,  3,\n",
       "        8,  8,  2,  8,  8,  1,  5,  1,  1,  9,  1,  1,  2,  2,  8, 10,  4,\n",
       "        5,  7,  5,  6,  1,  4,  8,  9,  8,  8,  4, 10,  2,  4,  5,  1,  2,\n",
       "        3,  1,  6,  9,  3, 10,  1,  7,  8,  2,  8,  9, 10,  8,  9, 10,  9,\n",
       "        8,  4,  7, 10, 10, 10,  8,  8,  2,  3,  6,  6,  8,  9,  7,  2,  1,\n",
       "        7,  5,  6,  5,  7,  7,  6,  2,  8,  8,  9,  3,  4,  6,  7,  8,  6,\n",
       "       10,  9,  8,  5,  9,  8,  1,  6,  2,  9,  5,  6,  2, 10, 10,  1,  9,\n",
       "        5,  6,  8,  9,  6,  6,  4, 10,  2,  4,  3,  7,  8,  8,  7, 10,  1,\n",
       "        7,  1,  7,  7,  1,  2,  7,  4,  9,  8,  4,  7,  6,  6,  4,  4, 10,\n",
       "        9,  4,  4,  6,  1,  2,  1,  8,  3,  1,  8,  2,  3,  2,  6,  8,  5,\n",
       "        3, 10,  6,  8,  7,  8,  4,  5,  9,  4,  9,  9,  5,  4,  2,  7,  4,\n",
       "       10,  6,  8,  3,  8,  7,  1,  1,  8,  8,  4,  2,  8,  5,  5,  8,  8,\n",
       "        5,  6,  8,  2,  6,  1,  8,  9,  3,  2,  9, 10,  9,  4,  9,  5,  4,\n",
       "        2,  9,  5,  2,  3,  3,  5,  4,  8,  4,  5,  7,  7,  5,  8, 10, 10,\n",
       "        1, 10,  1,  2,  6,  2, 10,  7,  2, 10,  5,  9,  3,  5,  3,  1,  1,\n",
       "        2,  6,  2,  6,  9,  9,  7,  4,  1,  1, 10,  2,  9,  8,  9,  4,  8,\n",
       "        3,  4,  4,  7,  9,  7,  9,  9,  5,  1,  1,  1,  8,  7,  8,  2,  7,\n",
       "        6,  9,  2,  4,  5,  3,  8,  4,  6,  4,  4,  3, 10,  3, 10,  9, 10,\n",
       "        7,  2, 10,  7,  1,  5,  2,  3,  8, 10,  1,  5,  8,  7,  6,  9,  2,\n",
       "       10,  1,  8,  7, 10,  9, 10,  1,  6,  9,  8,  5,  8,  5,  2,  3,  4,\n",
       "        9,  7,  6, 10,  4,  3,  8, 10, 10,  4,  9,  8, 10,  2,  7,  4,  7,\n",
       "        2,  8, 10,  3,  6,  4,  8, 10,  5, 10, 10,  1,  9,  2,  8,  4,  7,\n",
       "        5, 10,  7,  5,  1,  8, 10,  2,  1, 10,  3,  2,  8,  5,  8,  4,  1,\n",
       "        1, 10,  8,  4,  9,  3,  3,  3,  9,  6,  3,  3,  4,  4,  3, 10,  1,\n",
       "        6, 10,  1,  7,  6,  5,  5,  1, 10,  6,  6,  7,  9,  1,  9,  5, 10,\n",
       "        3,  3,  5,  8,  9,  9,  9, 10,  9,  7,  4, 10, 10,  9,  4,  9,  9,\n",
       "        9,  5,  8, 10,  3,  2,  8,  8,  3, 10,  1,  2,  4,  5, 10,  5,  6,\n",
       "        6,  9,  2,  1,  3,  1,  2,  5,  3,  5,  5,  7,  6,  7,  9,  6,  7,\n",
       "        8,  9,  3,  9,  2,  2,  9, 10,  5,  8,  9,  2,  6,  7,  5, 10,  9,\n",
       "        3,  8, 10,  5,  6,  8,  1,  1, 10,  4,  8,  8,  8, 10,  5,  6,  1,\n",
       "        2,  6,  1,  3,  6,  4,  8,  8,  5,  9,  9,  1,  1,  5,  9,  2,  4,\n",
       "        1,  9, 10,  9,  5,  1,  6,  4,  9,  2,  6,  9,  3,  5],\n",
       "      dtype=int64)"
      ]
     },
     "execution_count": 11,
     "metadata": {},
     "output_type": "execute_result"
    }
   ],
   "source": [
    "# Generate a list of random integers\n",
    "rand_ints = rng.integers(low=low, high=high + 1, size=size)\n",
    "\n",
    "# Show\n",
    "rand_ints"
   ]
  },
  {
   "cell_type": "code",
   "execution_count": 12,
   "metadata": {},
   "outputs": [
    {
     "data": {
      "text/plain": [
       "array([ 1,  2,  3,  4,  5,  6,  7,  8,  9, 10])"
      ]
     },
     "execution_count": 12,
     "metadata": {},
     "output_type": "execute_result"
    }
   ],
   "source": [
    "# The range of x values\n",
    "x = np.arange(low, high + 1.0, dtype=int)\n",
    "\n",
    "# Show x\n",
    "x"
   ]
  },
  {
   "cell_type": "code",
   "execution_count": 13,
   "metadata": {},
   "outputs": [
    {
     "data": {
      "text/plain": [
       "(array([ 1,  2,  3,  4,  5,  6,  7,  8,  9, 10], dtype=int64),\n",
       " array([ 95, 100,  95,  97, 101,  91,  74, 128, 108, 111], dtype=int64))"
      ]
     },
     "execution_count": 13,
     "metadata": {},
     "output_type": "execute_result"
    }
   ],
   "source": [
    "# The unique elements of rand_ints with counts\n",
    "x, counts= np.unique(rand_ints, return_counts=True)\n",
    "\n",
    "# Show the x and counts arrays\n",
    "x, counts"
   ]
  },
  {
   "cell_type": "code",
   "execution_count": 14,
   "metadata": {},
   "outputs": [
    {
     "data": {
      "image/png": "[encoded data removed]",
      "text/plain": [
       "<Figure size 640x480 with 1 Axes>"
      ]
     },
     "metadata": {},
     "output_type": "display_data"
    }
   ],
   "source": [
    "# Create an empty plot\n",
    "fig, ax = plt.subplots()\n",
    "\n",
    "# Plot a bar chart\n",
    "ax.bar(x, counts);"
   ]
  },
  {
   "attachments": {},
   "cell_type": "markdown",
   "metadata": {},
   "source": [
    "## Plotting Histograms\n",
    "\n",
    "***"
   ]
  },
  {
   "cell_type": "code",
   "execution_count": 15,
   "metadata": {},
   "outputs": [],
   "source": [
    "# The number of floating point numbers to generate\n",
    "size = 1000"
   ]
  },
  {
   "cell_type": "code",
   "execution_count": 16,
   "metadata": {},
   "outputs": [],
   "source": [
    "rand_floats = rng.random(size)\n",
    "\n",
    "# Show rand_floats\n",
    "#rand_floats"
   ]
  },
  {
   "cell_type": "code",
   "execution_count": 17,
   "metadata": {},
   "outputs": [
    {
     "data": {
      "text/plain": [
       "(array([0.00103459, 0.00217392, 0.00444039, 0.00464387, 0.00474232,\n",
       "        0.00523055, 0.00587962, 0.0060744 , 0.00723807, 0.00770235,\n",
       "        0.00888293, 0.00894975, 0.01016044, 0.0116585 , 0.01186902,\n",
       "        0.01216033, 0.012474  , 0.01405832, 0.01893784, 0.01992314,\n",
       "        0.02047049, 0.02051035, 0.02079184, 0.02093701, 0.02233937,\n",
       "        0.02348857, 0.02474548, 0.02482579, 0.02542679, 0.0257387 ,\n",
       "        0.02612101, 0.02631691, 0.02848775, 0.02907735, 0.03039013,\n",
       "        0.0305159 , 0.03181655, 0.03183811, 0.03286539, 0.03349641,\n",
       "        0.03448823, 0.03526471, 0.03549166, 0.0363388 , 0.03675251,\n",
       "        0.03691644, 0.03738724, 0.03973956, 0.04092437, 0.04229702,\n",
       "        0.04342088, 0.04482075, 0.04541547, 0.04556392, 0.04812591,\n",
       "        0.0483593 , 0.0486089 , 0.04987058, 0.05028125, 0.05182754,\n",
       "        0.05261986, 0.0549642 , 0.0552522 , 0.05596787, 0.05605719,\n",
       "        0.05660844, 0.05889608, 0.05898984, 0.05919128, 0.05925129,\n",
       "        0.06085444, 0.0622572 , 0.06257922, 0.06297431, 0.0630096 ,\n",
       "        0.06367554, 0.0637616 , 0.06400167, 0.06439125, 0.06441621,\n",
       "        0.07069437, 0.07115293, 0.0750102 , 0.07632352, 0.07716295,\n",
       "        0.07769607, 0.07828081, 0.07898092, 0.07953635, 0.07955379,\n",
       "        0.08058426, 0.08406271, 0.0864847 , 0.08838726, 0.08978081,\n",
       "        0.09010477, 0.09089887, 0.09094156, 0.09211416, 0.09410522,\n",
       "        0.09571557, 0.09605702, 0.10051197, 0.10290379, 0.10290643,\n",
       "        0.10373942, 0.10429906, 0.10578094, 0.10804286, 0.10911399,\n",
       "        0.10969323, 0.11089138, 0.11197721, 0.11204738, 0.11229596,\n",
       "        0.11495552, 0.115658  , 0.11662277, 0.1167658 , 0.11693326,\n",
       "        0.11934348, 0.11958107, 0.12031631, 0.12183788, 0.12491492,\n",
       "        0.12557833, 0.1257102 , 0.12683116, 0.1272677 , 0.12730429,\n",
       "        0.13128296, 0.13142298, 0.13217262, 0.13221458, 0.13269364,\n",
       "        0.13291051, 0.13594294, 0.1380683 , 0.1381125 , 0.13866021,\n",
       "        0.13906075, 0.13931921, 0.13937107, 0.14035412, 0.14055892,\n",
       "        0.14122424, 0.1413587 , 0.14190198, 0.14360319, 0.1441393 ,\n",
       "        0.14557046, 0.1466788 , 0.14690513, 0.14741629, 0.1476316 ,\n",
       "        0.14787798, 0.152143  , 0.15273143, 0.15418004, 0.15563689,\n",
       "        0.1569074 , 0.15890165, 0.16069994, 0.16373641, 0.16496556,\n",
       "        0.16726765, 0.16809733, 0.16948775, 0.17036158, 0.17117123,\n",
       "        0.17122833, 0.17161237, 0.17335039, 0.17337887, 0.17499819,\n",
       "        0.17623491, 0.17790185, 0.17805737, 0.1784907 , 0.17908809,\n",
       "        0.17937544, 0.18015849, 0.18017321, 0.1803816 , 0.18089334,\n",
       "        0.18119332, 0.18151621, 0.18154059, 0.18172999, 0.18183576,\n",
       "        0.18244097, 0.18253162, 0.18523206, 0.18554991, 0.18748174,\n",
       "        0.18766235, 0.18898043, 0.19147634, 0.19408907, 0.19475802,\n",
       "        0.19510873, 0.19590225, 0.19714938, 0.19718368, 0.19766408,\n",
       "        0.19774241, 0.19926887, 0.19949447, 0.19987771, 0.20001911,\n",
       "        0.20105547, 0.20145865, 0.20203668, 0.20327201, 0.20332446,\n",
       "        0.20563574, 0.20619808, 0.21060268, 0.21307447, 0.21698177,\n",
       "        0.21711415, 0.21755856, 0.21897995, 0.2204753 , 0.22149612,\n",
       "        0.22378443, 0.22417295, 0.22564652, 0.22621608, 0.22650476,\n",
       "        0.23344272, 0.23478128, 0.23479015, 0.237593  , 0.23806297,\n",
       "        0.23834125, 0.2391498 , 0.23937552, 0.24019383, 0.24147254,\n",
       "        0.24211541, 0.24275306, 0.2435711 , 0.24359507, 0.24374837,\n",
       "        0.24559737, 0.24575711, 0.24655246, 0.24760067, 0.24883385,\n",
       "        0.25017982, 0.25031478, 0.25148583, 0.25152352, 0.25203194,\n",
       "        0.25357548, 0.25377548, 0.25418757, 0.25424053, 0.25454548,\n",
       "        0.25565542, 0.25617215, 0.25619022, 0.25703546, 0.25747284,\n",
       "        0.25763869, 0.25781111, 0.25812367, 0.2583543 , 0.25957932,\n",
       "        0.25982301, 0.26104102, 0.26310153, 0.26341011, 0.26399115,\n",
       "        0.26511098, 0.26883714, 0.270041  , 0.27021862, 0.27311066,\n",
       "        0.27364957, 0.27465207, 0.27485406, 0.27495071, 0.27570154,\n",
       "        0.27583232, 0.27711339, 0.27743621, 0.27796023, 0.27836539,\n",
       "        0.27850261, 0.2789494 , 0.27926457, 0.28108012, 0.28380628,\n",
       "        0.28408789, 0.28454311, 0.28458583, 0.28544762, 0.28552069,\n",
       "        0.28697691, 0.28704036, 0.29277743, 0.29327183, 0.29519319,\n",
       "        0.29530249, 0.29566618, 0.29653113, 0.29708269, 0.2971452 ,\n",
       "        0.29725386, 0.29741903, 0.2975579 , 0.29955481, 0.29968964,\n",
       "        0.29981582, 0.30250522, 0.30313468, 0.30584102, 0.30875587,\n",
       "        0.30923391, 0.31096691, 0.3125027 , 0.31325727, 0.31587238,\n",
       "        0.316023  , 0.32013667, 0.32038496, 0.32079614, 0.32088914,\n",
       "        0.32325071, 0.32454175, 0.32517576, 0.32592473, 0.32765022,\n",
       "        0.32919239, 0.32944386, 0.32970256, 0.32987929, 0.33070142,\n",
       "        0.33180489, 0.33298627, 0.33302604, 0.33417768, 0.33418985,\n",
       "        0.33501272, 0.33509715, 0.33668192, 0.33679378, 0.33831068,\n",
       "        0.33864976, 0.33968633, 0.34028535, 0.341505  , 0.34190052,\n",
       "        0.34217989, 0.34377354, 0.34423055, 0.34448394, 0.34531351,\n",
       "        0.34585719, 0.34606357, 0.34702357, 0.35076308, 0.35166016,\n",
       "        0.35251669, 0.35265673, 0.35290161, 0.3553709 , 0.3569194 ,\n",
       "        0.35746302, 0.35756962, 0.35790791, 0.3584984 , 0.35911624,\n",
       "        0.35925798, 0.35944994, 0.36174038, 0.36191697, 0.36484091,\n",
       "        0.36586566, 0.36642208, 0.36694586, 0.36742422, 0.3682418 ,\n",
       "        0.36863656, 0.36896625, 0.37004185, 0.37106841, 0.37145709,\n",
       "        0.37195601, 0.37360431, 0.37441547, 0.37492289, 0.37514887,\n",
       "        0.37525866, 0.37908612, 0.38122387, 0.38137795, 0.3825781 ,\n",
       "        0.38309675, 0.38529797, 0.38649154, 0.38655641, 0.38792131,\n",
       "        0.38873817, 0.39099851, 0.39147193, 0.39763826, 0.39789579,\n",
       "        0.39845275, 0.40140353, 0.40152651, 0.40239418, 0.40270972,\n",
       "        0.40291523, 0.40396184, 0.40436987, 0.40651511, 0.40688659,\n",
       "        0.40703433, 0.40839209, 0.41033649, 0.41048526, 0.41116249,\n",
       "        0.4112906 , 0.41333637, 0.41355046, 0.41362207, 0.41403659,\n",
       "        0.4143903 , 0.41469572, 0.41666824, 0.41710103, 0.41753913,\n",
       "        0.41766757, 0.41833025, 0.4188429 , 0.42197992, 0.42211366,\n",
       "        0.42231936, 0.4224727 , 0.42336492, 0.42441918, 0.4250676 ,\n",
       "        0.42620841, 0.42723198, 0.42781316, 0.42828316, 0.42864293,\n",
       "        0.4290209 , 0.42999359, 0.43047132, 0.43092658, 0.43251585,\n",
       "        0.4351997 , 0.43542273, 0.43600294, 0.43709295, 0.43802459,\n",
       "        0.44696191, 0.44804804, 0.44887566, 0.44890951, 0.4489589 ,\n",
       "        0.45013283, 0.45139424, 0.45168345, 0.45282336, 0.45415532,\n",
       "        0.45465627, 0.45501289, 0.45637082, 0.45926373, 0.46161435,\n",
       "        0.46181159, 0.46292199, 0.46389019, 0.46638034, 0.46638331,\n",
       "        0.46839512, 0.46848092, 0.46857776, 0.46971629, 0.47026936,\n",
       "        0.47266233, 0.47278783, 0.4735223 , 0.47449726, 0.47535564,\n",
       "        0.47538454, 0.47578881, 0.47753853, 0.47891415, 0.47906326,\n",
       "        0.48195813, 0.48244367, 0.4839675 , 0.48437201, 0.48458423,\n",
       "        0.4851301 , 0.48803786, 0.48872121, 0.48892579, 0.48960641,\n",
       "        0.49056876, 0.4914398 , 0.49260522, 0.49353726, 0.49363992,\n",
       "        0.49463277, 0.49561787, 0.49693164, 0.49965435, 0.50027097,\n",
       "        0.5002719 , 0.50211274, 0.50508722, 0.50527868, 0.50609246,\n",
       "        0.50724596, 0.50768035, 0.51073692, 0.51100638, 0.51287362,\n",
       "        0.51401323, 0.51438036, 0.51475005, 0.5151486 , 0.51685434,\n",
       "        0.51704039, 0.51745429, 0.51757722, 0.51785759, 0.51835872,\n",
       "        0.51854745, 0.51936697, 0.51946426, 0.52117129, 0.52120618,\n",
       "        0.5215086 , 0.52156882, 0.52178172, 0.5234597 , 0.52418148,\n",
       "        0.52485442, 0.52494438, 0.52648675, 0.52753401, 0.52874352,\n",
       "        0.52890311, 0.52925872, 0.53064047, 0.53166128, 0.53207511,\n",
       "        0.53374561, 0.53389671, 0.53468473, 0.53491791, 0.53534858,\n",
       "        0.5361984 , 0.53623433, 0.53627767, 0.53678963, 0.53955844,\n",
       "        0.54156824, 0.54337858, 0.54508558, 0.54535894, 0.54592363,\n",
       "        0.54592772, 0.54635231, 0.54723265, 0.54840031, 0.54875454,\n",
       "        0.55010469, 0.55087208, 0.55217012, 0.5526515 , 0.5538954 ,\n",
       "        0.55464241, 0.55479006, 0.55512436, 0.55630353, 0.55656944,\n",
       "        0.55793315, 0.5579901 , 0.56179974, 0.56383896, 0.56483385,\n",
       "        0.56494741, 0.56598552, 0.56624757, 0.56683013, 0.56757138,\n",
       "        0.56846038, 0.56854658, 0.56944058, 0.57005833, 0.57084302,\n",
       "        0.57137717, 0.57312777, 0.57397679, 0.57424913, 0.57426619,\n",
       "        0.57430626, 0.57475664, 0.57519164, 0.5765543 , 0.57834872,\n",
       "        0.57937118, 0.57961621, 0.58019767, 0.5802067 , 0.58060865,\n",
       "        0.58102502, 0.58155111, 0.58306181, 0.58387385, 0.58654531,\n",
       "        0.58685646, 0.58829334, 0.58852917, 0.58971514, 0.58999455,\n",
       "        0.59055328, 0.59105746, 0.59305176, 0.59312306, 0.5944585 ,\n",
       "        0.59478954, 0.59889563, 0.59965992, 0.60074057, 0.60261439,\n",
       "        0.60308328, 0.60386639, 0.6078193 , 0.6086325 , 0.60961232,\n",
       "        0.60962154, 0.61171713, 0.61341805, 0.61467165, 0.61524164,\n",
       "        0.61554112, 0.61674594, 0.61743128, 0.61754459, 0.61991036,\n",
       "        0.62265879, 0.62886651, 0.6289899 , 0.62940139, 0.63072347,\n",
       "        0.6327443 , 0.63525938, 0.6366471 , 0.63800412, 0.63827623,\n",
       "        0.63925068, 0.64046434, 0.6428245 , 0.64283655, 0.64308954,\n",
       "        0.6442377 , 0.64499358, 0.6456003 , 0.64613258, 0.64614696,\n",
       "        0.64830266, 0.6485774 , 0.64871385, 0.65113406, 0.65160473,\n",
       "        0.65237659, 0.65241731, 0.6528913 , 0.65366334, 0.65705362,\n",
       "        0.6580987 , 0.65965134, 0.66123696, 0.66141626, 0.66307952,\n",
       "        0.66633882, 0.66840733, 0.6691214 , 0.66994161, 0.67154518,\n",
       "        0.67281592, 0.67515625, 0.67527467, 0.6754887 , 0.67579064,\n",
       "        0.67945137, 0.67976921, 0.68047722, 0.68269932, 0.68295768,\n",
       "        0.68360695, 0.68475478, 0.68626466, 0.68639305, 0.68651742,\n",
       "        0.68667349, 0.68746552, 0.68930982, 0.6901444 , 0.69263739,\n",
       "        0.69365861, 0.69371516, 0.6938627 , 0.69469737, 0.69486046,\n",
       "        0.69676109, 0.69724414, 0.69758029, 0.69773096, 0.69821399,\n",
       "        0.69861415, 0.69904186, 0.69947711, 0.70025962, 0.7022772 ,\n",
       "        0.70402083, 0.70500751, 0.70766224, 0.70896211, 0.71095307,\n",
       "        0.71358141, 0.71456582, 0.72059189, 0.72271406, 0.72324847,\n",
       "        0.72485583, 0.72506981, 0.72544694, 0.72598315, 0.7262305 ,\n",
       "        0.72713105, 0.72810506, 0.72857853, 0.72994967, 0.73194498,\n",
       "        0.7319802 , 0.73272904, 0.73352416, 0.73385408, 0.73479763,\n",
       "        0.73737093, 0.73790704, 0.73919024, 0.73924637, 0.74080678,\n",
       "        0.74100838, 0.74327026, 0.74360924, 0.74654683, 0.74662539,\n",
       "        0.74772413, 0.74790378, 0.75098643, 0.75134504, 0.75199969,\n",
       "        0.75222702, 0.75291334, 0.75294095, 0.75442212, 0.75508787,\n",
       "        0.75511718, 0.75526394, 0.75633535, 0.75932619, 0.76625429,\n",
       "        0.76726172, 0.7679807 , 0.77166734, 0.77207811, 0.7743248 ,\n",
       "        0.77466078, 0.77869899, 0.78156222, 0.78182081, 0.78246405,\n",
       "        0.78260924, 0.78338804, 0.78346439, 0.78519845, 0.78565917,\n",
       "        0.78723455, 0.78850097, 0.7892722 , 0.78962974, 0.79023137,\n",
       "        0.79176944, 0.79388811, 0.79536423, 0.79561342, 0.7961123 ,\n",
       "        0.79832857, 0.79910342, 0.7992184 , 0.7994508 , 0.8032503 ,\n",
       "        0.80401217, 0.80467358, 0.80483168, 0.80520933, 0.80554298,\n",
       "        0.80661375, 0.80901456, 0.80946034, 0.80991855, 0.81103617,\n",
       "        0.81383058, 0.81384962, 0.81449699, 0.81624101, 0.81624132,\n",
       "        0.81777324, 0.82116207, 0.82302938, 0.82494134, 0.82666301,\n",
       "        0.8269396 , 0.82697955, 0.82709497, 0.82785406, 0.82803815,\n",
       "        0.82812848, 0.82881871, 0.82938484, 0.82984114, 0.83097681,\n",
       "        0.83195109, 0.83209036, 0.83270851, 0.83451715, 0.83525159,\n",
       "        0.83609965, 0.83772219, 0.84161241, 0.84164847, 0.84198304,\n",
       "        0.84266671, 0.84310526, 0.84353721, 0.84355781, 0.84370431,\n",
       "        0.84519212, 0.8461434 , 0.84681016, 0.84719499, 0.84827607,\n",
       "        0.84866708, 0.84984093, 0.85270468, 0.85447742, 0.85478586,\n",
       "        0.85563585, 0.8570196 , 0.85870307, 0.85993048, 0.86065708,\n",
       "        0.86094213, 0.86095632, 0.86178725, 0.86378417, 0.86502686,\n",
       "        0.86526529, 0.87122808, 0.87358439, 0.8756103 , 0.87579958,\n",
       "        0.87617992, 0.8776455 , 0.87855662, 0.88375109, 0.88386322,\n",
       "        0.887131  , 0.88795436, 0.88845228, 0.88887893, 0.88910618,\n",
       "        0.88919705, 0.88953096, 0.89095963, 0.89389181, 0.89581457,\n",
       "        0.89643924, 0.89849903, 0.89888233, 0.90284058, 0.90737623,\n",
       "        0.90921321, 0.90962786, 0.91052982, 0.91122167, 0.91383019,\n",
       "        0.91425141, 0.91459883, 0.91553339, 0.91745004, 0.91772175,\n",
       "        0.91903394, 0.91946609, 0.9201699 , 0.9214479 , 0.92184814,\n",
       "        0.92451594, 0.92489685, 0.9258617 , 0.92635745, 0.92674836,\n",
       "        0.92730764, 0.92808753, 0.92936608, 0.93072119, 0.93092485,\n",
       "        0.93094193, 0.93197446, 0.93281485, 0.93302984, 0.93469368,\n",
       "        0.93587978, 0.93619505, 0.93684735, 0.93697975, 0.93716106,\n",
       "        0.93793796, 0.93868458, 0.93935157, 0.93961877, 0.93971543,\n",
       "        0.94024769, 0.94079508, 0.94259126, 0.94342625, 0.94345766,\n",
       "        0.94382018, 0.94387403, 0.94629279, 0.94651604, 0.94770558,\n",
       "        0.94887911, 0.95029924, 0.95031216, 0.95033603, 0.95101607,\n",
       "        0.95245057, 0.95362107, 0.95558963, 0.95670381, 0.95802759,\n",
       "        0.95933735, 0.96115006, 0.96280853, 0.96403652, 0.96498961,\n",
       "        0.96634375, 0.96640905, 0.96703781, 0.96746295, 0.9674948 ,\n",
       "        0.96761474, 0.96770659, 0.96909165, 0.96971764, 0.97047238,\n",
       "        0.97110762, 0.97149958, 0.97182766, 0.97236243, 0.97473788,\n",
       "        0.97599551, 0.97610573, 0.97620118, 0.97744675, 0.97755683,\n",
       "        0.97763271, 0.97820013, 0.97947547, 0.97972542, 0.98074253,\n",
       "        0.98154301, 0.98270897, 0.98436586, 0.98478111, 0.98733984,\n",
       "        0.98768987, 0.98792552, 0.98804235, 0.98862325, 0.99067708,\n",
       "        0.99111323, 0.99208585, 0.99424623, 0.99549979, 0.9993308 ]),\n",
       " array([1, 1, 1, 1, 1, 1, 1, 1, 1, 1, 1, 1, 1, 1, 1, 1, 1, 1, 1, 1, 1, 1,\n",
       "        1, 1, 1, 1, 1, 1, 1, 1, 1, 1, 1, 1, 1, 1, 1, 1, 1, 1, 1, 1, 1, 1,\n",
       "        1, 1, 1, 1, 1, 1, 1, 1, 1, 1, 1, 1, 1, 1, 1, 1, 1, 1, 1, 1, 1, 1,\n",
       "        1, 1, 1, 1, 1, 1, 1, 1, 1, 1, 1, 1, 1, 1, 1, 1, 1, 1, 1, 1, 1, 1,\n",
       "        1, 1, 1, 1, 1, 1, 1, 1, 1, 1, 1, 1, 1, 1, 1, 1, 1, 1, 1, 1, 1, 1,\n",
       "        1, 1, 1, 1, 1, 1, 1, 1, 1, 1, 1, 1, 1, 1, 1, 1, 1, 1, 1, 1, 1, 1,\n",
       "        1, 1, 1, 1, 1, 1, 1, 1, 1, 1, 1, 1, 1, 1, 1, 1, 1, 1, 1, 1, 1, 1,\n",
       "        1, 1, 1, 1, 1, 1, 1, 1, 1, 1, 1, 1, 1, 1, 1, 1, 1, 1, 1, 1, 1, 1,\n",
       "        1, 1, 1, 1, 1, 1, 1, 1, 1, 1, 1, 1, 1, 1, 1, 1, 1, 1, 1, 1, 1, 1,\n",
       "        1, 1, 1, 1, 1, 1, 1, 1, 1, 1, 1, 1, 1, 1, 1, 1, 1, 1, 1, 1, 1, 1,\n",
       "        1, 1, 1, 1, 1, 1, 1, 1, 1, 1, 1, 1, 1, 1, 1, 1, 1, 1, 1, 1, 1, 1,\n",
       "        1, 1, 1, 1, 1, 1, 1, 1, 1, 1, 1, 1, 1, 1, 1, 1, 1, 1, 1, 1, 1, 1,\n",
       "        1, 1, 1, 1, 1, 1, 1, 1, 1, 1, 1, 1, 1, 1, 1, 1, 1, 1, 1, 1, 1, 1,\n",
       "        1, 1, 1, 1, 1, 1, 1, 1, 1, 1, 1, 1, 1, 1, 1, 1, 1, 1, 1, 1, 1, 1,\n",
       "        1, 1, 1, 1, 1, 1, 1, 1, 1, 1, 1, 1, 1, 1, 1, 1, 1, 1, 1, 1, 1, 1,\n",
       "        1, 1, 1, 1, 1, 1, 1, 1, 1, 1, 1, 1, 1, 1, 1, 1, 1, 1, 1, 1, 1, 1,\n",
       "        1, 1, 1, 1, 1, 1, 1, 1, 1, 1, 1, 1, 1, 1, 1, 1, 1, 1, 1, 1, 1, 1,\n",
       "        1, 1, 1, 1, 1, 1, 1, 1, 1, 1, 1, 1, 1, 1, 1, 1, 1, 1, 1, 1, 1, 1,\n",
       "        1, 1, 1, 1, 1, 1, 1, 1, 1, 1, 1, 1, 1, 1, 1, 1, 1, 1, 1, 1, 1, 1,\n",
       "        1, 1, 1, 1, 1, 1, 1, 1, 1, 1, 1, 1, 1, 1, 1, 1, 1, 1, 1, 1, 1, 1,\n",
       "        1, 1, 1, 1, 1, 1, 1, 1, 1, 1, 1, 1, 1, 1, 1, 1, 1, 1, 1, 1, 1, 1,\n",
       "        1, 1, 1, 1, 1, 1, 1, 1, 1, 1, 1, 1, 1, 1, 1, 1, 1, 1, 1, 1, 1, 1,\n",
       "        1, 1, 1, 1, 1, 1, 1, 1, 1, 1, 1, 1, 1, 1, 1, 1, 1, 1, 1, 1, 1, 1,\n",
       "        1, 1, 1, 1, 1, 1, 1, 1, 1, 1, 1, 1, 1, 1, 1, 1, 1, 1, 1, 1, 1, 1,\n",
       "        1, 1, 1, 1, 1, 1, 1, 1, 1, 1, 1, 1, 1, 1, 1, 1, 1, 1, 1, 1, 1, 1,\n",
       "        1, 1, 1, 1, 1, 1, 1, 1, 1, 1, 1, 1, 1, 1, 1, 1, 1, 1, 1, 1, 1, 1,\n",
       "        1, 1, 1, 1, 1, 1, 1, 1, 1, 1, 1, 1, 1, 1, 1, 1, 1, 1, 1, 1, 1, 1,\n",
       "        1, 1, 1, 1, 1, 1, 1, 1, 1, 1, 1, 1, 1, 1, 1, 1, 1, 1, 1, 1, 1, 1,\n",
       "        1, 1, 1, 1, 1, 1, 1, 1, 1, 1, 1, 1, 1, 1, 1, 1, 1, 1, 1, 1, 1, 1,\n",
       "        1, 1, 1, 1, 1, 1, 1, 1, 1, 1, 1, 1, 1, 1, 1, 1, 1, 1, 1, 1, 1, 1,\n",
       "        1, 1, 1, 1, 1, 1, 1, 1, 1, 1, 1, 1, 1, 1, 1, 1, 1, 1, 1, 1, 1, 1,\n",
       "        1, 1, 1, 1, 1, 1, 1, 1, 1, 1, 1, 1, 1, 1, 1, 1, 1, 1, 1, 1, 1, 1,\n",
       "        1, 1, 1, 1, 1, 1, 1, 1, 1, 1, 1, 1, 1, 1, 1, 1, 1, 1, 1, 1, 1, 1,\n",
       "        1, 1, 1, 1, 1, 1, 1, 1, 1, 1, 1, 1, 1, 1, 1, 1, 1, 1, 1, 1, 1, 1,\n",
       "        1, 1, 1, 1, 1, 1, 1, 1, 1, 1, 1, 1, 1, 1, 1, 1, 1, 1, 1, 1, 1, 1,\n",
       "        1, 1, 1, 1, 1, 1, 1, 1, 1, 1, 1, 1, 1, 1, 1, 1, 1, 1, 1, 1, 1, 1,\n",
       "        1, 1, 1, 1, 1, 1, 1, 1, 1, 1, 1, 1, 1, 1, 1, 1, 1, 1, 1, 1, 1, 1,\n",
       "        1, 1, 1, 1, 1, 1, 1, 1, 1, 1, 1, 1, 1, 1, 1, 1, 1, 1, 1, 1, 1, 1,\n",
       "        1, 1, 1, 1, 1, 1, 1, 1, 1, 1, 1, 1, 1, 1, 1, 1, 1, 1, 1, 1, 1, 1,\n",
       "        1, 1, 1, 1, 1, 1, 1, 1, 1, 1, 1, 1, 1, 1, 1, 1, 1, 1, 1, 1, 1, 1,\n",
       "        1, 1, 1, 1, 1, 1, 1, 1, 1, 1, 1, 1, 1, 1, 1, 1, 1, 1, 1, 1, 1, 1,\n",
       "        1, 1, 1, 1, 1, 1, 1, 1, 1, 1, 1, 1, 1, 1, 1, 1, 1, 1, 1, 1, 1, 1,\n",
       "        1, 1, 1, 1, 1, 1, 1, 1, 1, 1, 1, 1, 1, 1, 1, 1, 1, 1, 1, 1, 1, 1,\n",
       "        1, 1, 1, 1, 1, 1, 1, 1, 1, 1, 1, 1, 1, 1, 1, 1, 1, 1, 1, 1, 1, 1,\n",
       "        1, 1, 1, 1, 1, 1, 1, 1, 1, 1, 1, 1, 1, 1, 1, 1, 1, 1, 1, 1, 1, 1,\n",
       "        1, 1, 1, 1, 1, 1, 1, 1, 1, 1], dtype=int64))"
      ]
     },
     "execution_count": 17,
     "metadata": {},
     "output_type": "execute_result"
    }
   ],
   "source": [
    "# The unique elements of rand_ints with counts\n",
    "x, counts= np.unique(rand_floats, return_counts=True)\n",
    "\n",
    "# Show the x and counts arrays\n",
    "x, counts"
   ]
  },
  {
   "cell_type": "code",
   "execution_count": 18,
   "metadata": {},
   "outputs": [
    {
     "data": {
      "text/plain": [
       "<BarContainer object of 1000 artists>"
      ]
     },
     "execution_count": 18,
     "metadata": {},
     "output_type": "execute_result"
    },
    {
     "data": {
      "image/png": "[encoded data removed]",
      "text/plain": [
       "<Figure size 1200x300 with 1 Axes>"
      ]
     },
     "metadata": {},
     "output_type": "display_data"
    }
   ],
   "source": [
    "fig, ax = plt.subplots(figsize=(12,3))\n",
    "\n",
    "# Plot a bar chart - it's useless\n",
    "ax.bar(x, counts, width=0.001)"
   ]
  },
  {
   "cell_type": "code",
   "execution_count": 19,
   "metadata": {},
   "outputs": [
    {
     "data": {
      "text/plain": [
       "(array([103., 107., 106.,  95., 103., 119.,  90.,  81.,  89., 107.]),\n",
       " array([0.00103459, 0.10086421, 0.20069383, 0.30052345, 0.40035308,\n",
       "        0.5001827 , 0.60001232, 0.69984194, 0.79967156, 0.89950118,\n",
       "        0.9993308 ]),\n",
       " <BarContainer object of 10 artists>)"
      ]
     },
     "execution_count": 19,
     "metadata": {},
     "output_type": "execute_result"
    },
    {
     "data": {
      "image/png": "[encoded data removed]",
      "text/plain": [
       "<Figure size 1200x300 with 1 Axes>"
      ]
     },
     "metadata": {},
     "output_type": "display_data"
    }
   ],
   "source": [
    "# Create an empty pot\n",
    "fig, ax = plt.subplots(figsize=(12,3))\n",
    "\n",
    "# Plot a histogram\n",
    "ax.hist(rand_floats)"
   ]
  },
  {
   "attachments": {},
   "cell_type": "markdown",
   "metadata": {},
   "source": [
    "## Normal Looking Data\n",
    "\n",
    "***"
   ]
  },
  {
   "cell_type": "code",
   "execution_count": 20,
   "metadata": {},
   "outputs": [],
   "source": [
    "# Generate numbers on a standard normal distribution\n",
    "rand_normal = rng.standard_normal(1000)"
   ]
  },
  {
   "cell_type": "code",
   "execution_count": 21,
   "metadata": {},
   "outputs": [
    {
     "data": {
      "image/png": "[encoded data removed]",
      "text/plain": [
       "<Figure size 1200x300 with 1 Axes>"
      ]
     },
     "metadata": {},
     "output_type": "display_data"
    }
   ],
   "source": [
    "fig, ax = plt.subplots(figsize=(12,3))\n",
    "\n",
    "# Plot a histogram\n",
    "ax.hist(rand_normal, bins=20, density=True);"
   ]
  },
  {
   "cell_type": "markdown",
   "metadata": {},
   "source": [
    "## Two Plots in One\n",
    "\n",
    "***"
   ]
  },
  {
   "cell_type": "code",
   "execution_count": 22,
   "metadata": {},
   "outputs": [],
   "source": [
    "# x should be a numpy array\n",
    "def f(x):\n",
    "    A = 1.0 / np.sqrt(2.0 * np.pi)\n",
    "    B = np.exp(-(x**2) / 2.0)\n",
    "    return A * B\n"
   ]
  },
  {
   "cell_type": "code",
   "execution_count": 23,
   "metadata": {},
   "outputs": [
    {
     "data": {
      "text/plain": [
       "0.3989422804014327"
      ]
     },
     "execution_count": 23,
     "metadata": {},
     "output_type": "execute_result"
    }
   ],
   "source": [
    "# Test value around 0.0\n",
    "f(0.0)"
   ]
  },
  {
   "cell_type": "code",
   "execution_count": 24,
   "metadata": {},
   "outputs": [
    {
     "data": {
      "text/plain": [
       "0.0044318484119380075"
      ]
     },
     "execution_count": 24,
     "metadata": {},
     "output_type": "execute_result"
    }
   ],
   "source": [
    "# test value around 3.0\n",
    "f(3.0)"
   ]
  },
  {
   "cell_type": "code",
   "execution_count": 25,
   "metadata": {},
   "outputs": [
    {
     "data": {
      "text/plain": [
       "[<matplotlib.lines.Line2D at 0x20a028b6a10>]"
      ]
     },
     "execution_count": 25,
     "metadata": {},
     "output_type": "execute_result"
    },
    {
     "data": {
      "image/png": "[encoded data removed]",
      "text/plain": [
       "<Figure size 1200x300 with 1 Axes>"
      ]
     },
     "metadata": {},
     "output_type": "display_data"
    }
   ],
   "source": [
    "# Range of x values for plotting\n",
    "x = np.linspace(-5.0, 5.0, 1001)\n",
    "\n",
    "# Create empty plot\n",
    "fig, ax = plt.subplots(figsize=(12, 3))\n",
    "\n",
    "# Plot histogram of randomly generated normal values from above\n",
    "ax.hist(rand_normal, bins=100, density=True)\n",
    "\n",
    "# Plot f(x)\n",
    "ax.plot(x, f(x))\n"
   ]
  },
  {
   "cell_type": "code",
   "execution_count": null,
   "metadata": {},
   "outputs": [],
   "source": []
  },
  {
   "attachments": {},
   "cell_type": "markdown",
   "metadata": {},
   "source": [
    "*** \n",
    "\n",
    "## End"
   ]
  }
 ],
 "metadata": {
  "kernelspec": {
   "display_name": "base",
   "language": "python",
   "name": "python3"
  },
  "language_info": {
   "codemirror_mode": {
    "name": "ipython",
    "version": 3
   },
   "file_extension": ".py",
   "mimetype": "text/x-python",
   "name": "python",
   "nbconvert_exporter": "python",
   "pygments_lexer": "ipython3",
   "version": "3.11.4"
  },
  "orig_nbformat": 4
 },
 "nbformat": 4,
 "nbformat_minor": 2
}
